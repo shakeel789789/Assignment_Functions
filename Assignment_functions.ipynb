{
  "nbformat": 4,
  "nbformat_minor": 0,
  "metadata": {
    "colab": {
      "provenance": []
    },
    "kernelspec": {
      "name": "python3",
      "display_name": "Python 3"
    },
    "language_info": {
      "name": "python"
    }
  },
  "cells": [
    {
      "cell_type": "code",
      "execution_count": null,
      "metadata": {
        "id": "0ztTH_Eeds_B"
      },
      "outputs": [],
      "source": []
    },
    {
      "cell_type": "markdown",
      "source": [
        "#Theory"
      ],
      "metadata": {
        "id": "QghQcNV8d1xx"
      }
    },
    {
      "cell_type": "markdown",
      "source": [
        "#1:-What is the difference between a function and a method in Python?\n",
        "\n",
        "- A function is an independent block of code that can be called by its name.\n",
        "A method is a function defined inside a class and is called on an object (it automatically gets the object — self — as its first argument)."
      ],
      "metadata": {
        "id": "WKL-4FzOd7tx"
      }
    },
    {
      "cell_type": "markdown",
      "source": [
        "#2:-Explain the concept of function arguments and parameters in Python.\n",
        "\n",
        "- Parameters → variables in the function definition (placeholders).\n",
        "\n",
        "Arguments → actual values passed when calling the function."
      ],
      "metadata": {
        "id": "UOFCo5R3eR8m"
      }
    },
    {
      "cell_type": "code",
      "source": [
        "def greet(name):   # 'name' = parameter\n",
        "    print(\"Hi\", name)\n",
        "\n",
        "greet(\"Alice\")     # \"Alice\" = argument\n"
      ],
      "metadata": {
        "id": "SMN5XNEOehlL"
      },
      "execution_count": null,
      "outputs": []
    },
    {
      "cell_type": "markdown",
      "source": [
        "#3:- What are the different ways to define and call a function in Python?\n",
        "\n",
        "- Defining a function in Python:\n",
        "\n",
        "Using def (normal function)\n",
        "\n",
        "Using lambda (anonymous function)\n",
        "\n",
        "Inside a class (methods)\n",
        "\n",
        "Calling a function:\n",
        "\n",
        "With positional arguments\n",
        "\n",
        "With keyword arguments\n",
        "\n",
        "With default arguments\n",
        "\n",
        "With variable-length args (*args, **kwargs)"
      ],
      "metadata": {
        "id": "eVmNVRZVekem"
      }
    },
    {
      "cell_type": "markdown",
      "source": [
        "#4:-What is the purpose of the `return` statement in a Python function?\n",
        "- The return statement is used to send a value back from a function to the caller.\n",
        "It ends the function and gives back the result."
      ],
      "metadata": {
        "id": "vkuhFWQve4Dm"
      }
    },
    {
      "cell_type": "code",
      "source": [
        "def add(a, b):\n",
        "    return a + b\n",
        "\n",
        "result = add(2, 3)  # result = 5\n"
      ],
      "metadata": {
        "id": "gYdYOLWrfJ4n"
      },
      "execution_count": 2,
      "outputs": []
    },
    {
      "cell_type": "markdown",
      "source": [
        "#5:-What are iterators in Python and how do they differ from iterables?\n",
        "\n",
        "Iterable → An object that can be looped over (like list, tuple, str). It gives an iterator when passed to iter().\n",
        "\n",
        "Iterator → An object that produces items one at a time using __next__().\n",
        "\n",
        "Difference:\n",
        "\n",
        "Iterable: can be converted to an iterator (iter(obj)).\n",
        "\n",
        "Iterator: remembers its state and gives next value with next()."
      ],
      "metadata": {
        "id": "1UNcxLpUfNOF"
      }
    },
    {
      "cell_type": "code",
      "source": [
        "nums = [1, 2, 3]      # Iterable\n",
        "it = iter(nums)       # Iterator\n",
        "\n",
        "print(next(it))  # 1\n",
        "print(next(it))  # 2\n"
      ],
      "metadata": {
        "id": "OPFu49M5fVte"
      },
      "execution_count": null,
      "outputs": []
    },
    {
      "cell_type": "markdown",
      "source": [
        "#6:-Explain the concept of generators in Python and how they are defined?\n",
        "\n",
        "- A generator is a special type of iterator in Python that generates values on the fly instead of storing them in memory.\n",
        "\n",
        "- They are defined using a function with the yield keyword.\n",
        "\n",
        "- Each call to yield produces a value and pauses the function, resuming from where it left off.\n",
        "\n",
        "Example:\n"
      ],
      "metadata": {
        "id": "FTd4SPJtfXEz"
      }
    },
    {
      "cell_type": "code",
      "source": [
        "def count_up_to(n):\n",
        "    i = 1\n",
        "    while i <= n:\n",
        "        yield i   # pauses and returns value\n",
        "        i += 1\n",
        "\n",
        "gen = count_up_to(3)\n",
        "print(next(gen))  # 1\n",
        "print(next(gen))  # 2\n",
        "print(next(gen))  # 3\n"
      ],
      "metadata": {
        "id": "Di-yViMcfigF"
      },
      "execution_count": null,
      "outputs": []
    },
    {
      "cell_type": "markdown",
      "source": [
        "#7:-What are the advantages of using generators over regular functions?\n",
        "\n",
        "- Advantages of generators over regular functions:\n",
        "\n",
        "Memory efficient – they yield values one at a time instead of storing everything in memory.\n",
        "\n",
        "Lazy evaluation – values are produced only when needed.\n",
        "\n",
        "Infinite sequences – can model streams of data without running out of memory.\n",
        "\n",
        "Clean code – easier to write than using classes with __iter__ and __next__."
      ],
      "metadata": {
        "id": "oKobeXiHfkat"
      }
    },
    {
      "cell_type": "markdown",
      "source": [
        "#8:-What is a lambda function in Python and when is it typically used?\n",
        "\n",
        "A lambda function is a small, anonymous function in Python defined with the lambda keyword.\n",
        "\n",
        "Syntax:\n",
        "\n"
      ],
      "metadata": {
        "id": "G3vndHQ1f-E-"
      }
    },
    {
      "cell_type": "code",
      "source": [
        "lambda arguments: expression\n"
      ],
      "metadata": {
        "id": "_XHrpEGpgCpO"
      },
      "execution_count": null,
      "outputs": []
    },
    {
      "cell_type": "markdown",
      "source": [
        "It can have any number of arguments but only one expression."
      ],
      "metadata": {
        "id": "h2gLQ8ybgF_e"
      }
    },
    {
      "cell_type": "code",
      "source": [
        "square = lambda x: x * x\n",
        "print(square(5))  # 25\n"
      ],
      "metadata": {
        "id": "EwBgnInagKDW"
      },
      "execution_count": null,
      "outputs": []
    },
    {
      "cell_type": "markdown",
      "source": [
        "Typical uses:\n",
        "\n",
        "When you need a short, throwaway function (e.g., in map(), filter(), sorted(), etc.).\n",
        "\n",
        "To avoid writing a full def function for simple operations."
      ],
      "metadata": {
        "id": "6MHCHL8LgQmF"
      }
    },
    {
      "cell_type": "markdown",
      "source": [
        "#9:-Explain the purpose and usage of the `map()` function in Python.\n",
        "\n",
        "- The map() function applies a given function to each item in an iterable (like list, tuple) and returns a map object (iterator).\n",
        "Syntax:"
      ],
      "metadata": {
        "id": "B8AGxpCMgRlw"
      }
    },
    {
      "cell_type": "code",
      "source": [
        "map(function, iterable)\n"
      ],
      "metadata": {
        "id": "cbXln4A_geX1"
      },
      "execution_count": null,
      "outputs": []
    },
    {
      "cell_type": "code",
      "source": [
        "#Example\n",
        "\n",
        "nums = [1, 2, 3, 4]\n",
        "squares = map(lambda x: x**2, nums)\n",
        "print(list(squares))  # [1, 4, 9, 16]\n"
      ],
      "metadata": {
        "colab": {
          "base_uri": "https://localhost:8080/"
        },
        "id": "fHFb48aDgz1x",
        "outputId": "d2822e5e-5b28-4e30-8ca8-db1266bd34ce"
      },
      "execution_count": 3,
      "outputs": [
        {
          "output_type": "stream",
          "name": "stdout",
          "text": [
            "[1, 4, 9, 16]\n"
          ]
        }
      ]
    },
    {
      "cell_type": "markdown",
      "source": [
        "Purpose:\n",
        "\n",
        "To avoid writing explicit loops.\n",
        "\n",
        "Useful for applying the same operation to all elements of a sequence in a clean, functional style."
      ],
      "metadata": {
        "id": "Ea5QhDasg-7W"
      }
    },
    {
      "cell_type": "markdown",
      "source": [
        "#10:-What is the difference between `map()`, `reduce()`, and `filter()` functions in Python?\n",
        "\n"
      ],
      "metadata": {
        "id": "yVWdq-cgg_82"
      }
    },
    {
      "cell_type": "markdown",
      "source": [
        "map(function, iterable)\n",
        "\n",
        "Applies a function to every element in the iterable.\n",
        "\n",
        "Returns a new iterable (map object).\n",
        "\n",
        "Example:"
      ],
      "metadata": {
        "id": "-J7CQmGLiWD_"
      }
    },
    {
      "cell_type": "code",
      "source": [
        "# Example using map\n",
        "list(map(lambda x: x*2, [1, 2, 3]))"
      ],
      "metadata": {
        "colab": {
          "base_uri": "https://localhost:8080/"
        },
        "id": "7c29f3ryiXYu",
        "outputId": "ba85b855-9414-4e2b-de17-883b7042a2ee"
      },
      "execution_count": 8,
      "outputs": [
        {
          "output_type": "execute_result",
          "data": {
            "text/plain": [
              "[2, 4, 6]"
            ]
          },
          "metadata": {},
          "execution_count": 8
        }
      ]
    },
    {
      "cell_type": "markdown",
      "source": [
        "filter(function, iterable)\n",
        "\n",
        "Tests each element with the function (returns True or False).\n",
        "\n",
        "Keeps only elements where the function returns True.\n",
        "\n",
        "Returns a new iterable (filter object).\n",
        "\n",
        "Example:"
      ],
      "metadata": {
        "id": "MdoyhQX5ik-N"
      }
    },
    {
      "cell_type": "code",
      "source": [
        "# Example using filter\n",
        "list(filter(lambda x: x%2==0, [1,2,3,4]))"
      ],
      "metadata": {
        "colab": {
          "base_uri": "https://localhost:8080/"
        },
        "id": "OZfR07Psin0O",
        "outputId": "69db8cc3-3c38-4016-f944-a14715fbd3b9"
      },
      "execution_count": 10,
      "outputs": [
        {
          "output_type": "execute_result",
          "data": {
            "text/plain": [
              "[2, 4]"
            ]
          },
          "metadata": {},
          "execution_count": 10
        }
      ]
    },
    {
      "cell_type": "markdown",
      "source": [
        "reduce(function, iterable) (from functools)\n",
        "\n",
        "Applies a function cumulatively to the elements (reduces iterable to a single value).\n",
        "\n",
        "Returns one final result.\n",
        "\n",
        "Example:"
      ],
      "metadata": {
        "id": "Y8L9dwdaiuzn"
      }
    },
    {
      "cell_type": "code",
      "source": [
        "from functools import reduce\n",
        "reduce(lambda x,y: x+y, [1,2,3,4])"
      ],
      "metadata": {
        "colab": {
          "base_uri": "https://localhost:8080/"
        },
        "id": "fBYgTHzui2y3",
        "outputId": "99466b23-1681-4f14-d91e-2627e8a8887c"
      },
      "execution_count": 12,
      "outputs": [
        {
          "output_type": "execute_result",
          "data": {
            "text/plain": [
              "10"
            ]
          },
          "metadata": {},
          "execution_count": 12
        }
      ]
    },
    {
      "cell_type": "markdown",
      "source": [
        "#Coding"
      ],
      "metadata": {
        "id": "bwyQdEghjA7F"
      }
    },
    {
      "cell_type": "code",
      "source": [
        "#1:-Write a Python function that takes a list of numbers as input and returns the sum of all even numbers in the list.\n",
        "\n",
        "def sum_even_numbers(numbers):\n",
        "    total = 0\n",
        "    for num in numbers:\n",
        "        if num % 2 == 0:   # check even\n",
        "            total += num\n",
        "    return total\n",
        "\n",
        "# Example usage\n",
        "nums = [47, 11, 42, 13, 20]\n",
        "print(sum_even_numbers(nums))  # Output: 62\n"
      ],
      "metadata": {
        "colab": {
          "base_uri": "https://localhost:8080/"
        },
        "id": "x26cVGsljXW2",
        "outputId": "68b85ec3-d7ee-4fbb-beac-3dd7480c872d"
      },
      "execution_count": 13,
      "outputs": [
        {
          "output_type": "stream",
          "name": "stdout",
          "text": [
            "62\n"
          ]
        }
      ]
    },
    {
      "cell_type": "code",
      "source": [
        "#2:-Create a Python function that accepts a string and returns the reverse of that string.\n",
        "\n",
        "def reverse_string(s):\n",
        "    return s[::-1]   # slicing method\n",
        "\n",
        "# Example usage\n",
        "text = \"hello\"\n",
        "print(reverse_string(text))  # Output: \"olleh\"\n"
      ],
      "metadata": {
        "colab": {
          "base_uri": "https://localhost:8080/"
        },
        "id": "RC1SycApjiZu",
        "outputId": "95f7b160-8c29-4b40-8b61-032fe00c4ee4"
      },
      "execution_count": 14,
      "outputs": [
        {
          "output_type": "stream",
          "name": "stdout",
          "text": [
            "olleh\n"
          ]
        }
      ]
    },
    {
      "cell_type": "markdown",
      "source": [],
      "metadata": {
        "id": "W7rXgzsbjoAG"
      }
    },
    {
      "cell_type": "code",
      "source": [
        "#3:- Implement a Python function that takes a list of integers and returns a new list containing the squares of each number.\n",
        "\n",
        "def square_list(numbers):\n",
        "    return [num**2 for num in numbers]   # list comprehension\n",
        "\n",
        "# Example usage\n",
        "nums = [1, 2, 3, 4, 5]\n",
        "print(square_list(nums))  # Output: [1, 4, 9, 16, 25]\n",
        "\n"
      ],
      "metadata": {
        "colab": {
          "base_uri": "https://localhost:8080/"
        },
        "id": "XBcbd7OYj1Pu",
        "outputId": "7d74245d-de54-4c9f-aba9-a8014061e766"
      },
      "execution_count": 15,
      "outputs": [
        {
          "output_type": "stream",
          "name": "stdout",
          "text": [
            "[1, 4, 9, 16, 25]\n"
          ]
        }
      ]
    },
    {
      "cell_type": "code",
      "source": [
        "#4:- Write a Python function that checks if a given number is prime or not from 1 to 200.\n",
        "\n",
        "\n",
        "def is_prime(n):\n",
        "    if n < 2:   # 0 and 1 are not prime\n",
        "        return False\n",
        "    for i in range(2, int(n**0.5) + 1):  # check divisibility\n",
        "        if n % i == 0:\n",
        "            return False\n",
        "    return True\n",
        "\n",
        "# Check primes from 1 to 200\n",
        "for num in range(1, 201):\n",
        "    if is_prime(num):\n",
        "        print(num, \"is Prime\")\n",
        "    else:\n",
        "        print(num, \"is Not Prime\")\n"
      ],
      "metadata": {
        "colab": {
          "base_uri": "https://localhost:8080/"
        },
        "collapsed": true,
        "id": "_u62LVmYkAeG",
        "outputId": "9fa7d2b8-d9d8-4b9c-b7c4-90a8c83f3da4"
      },
      "execution_count": 16,
      "outputs": [
        {
          "output_type": "stream",
          "name": "stdout",
          "text": [
            "1 is Not Prime\n",
            "2 is Prime\n",
            "3 is Prime\n",
            "4 is Not Prime\n",
            "5 is Prime\n",
            "6 is Not Prime\n",
            "7 is Prime\n",
            "8 is Not Prime\n",
            "9 is Not Prime\n",
            "10 is Not Prime\n",
            "11 is Prime\n",
            "12 is Not Prime\n",
            "13 is Prime\n",
            "14 is Not Prime\n",
            "15 is Not Prime\n",
            "16 is Not Prime\n",
            "17 is Prime\n",
            "18 is Not Prime\n",
            "19 is Prime\n",
            "20 is Not Prime\n",
            "21 is Not Prime\n",
            "22 is Not Prime\n",
            "23 is Prime\n",
            "24 is Not Prime\n",
            "25 is Not Prime\n",
            "26 is Not Prime\n",
            "27 is Not Prime\n",
            "28 is Not Prime\n",
            "29 is Prime\n",
            "30 is Not Prime\n",
            "31 is Prime\n",
            "32 is Not Prime\n",
            "33 is Not Prime\n",
            "34 is Not Prime\n",
            "35 is Not Prime\n",
            "36 is Not Prime\n",
            "37 is Prime\n",
            "38 is Not Prime\n",
            "39 is Not Prime\n",
            "40 is Not Prime\n",
            "41 is Prime\n",
            "42 is Not Prime\n",
            "43 is Prime\n",
            "44 is Not Prime\n",
            "45 is Not Prime\n",
            "46 is Not Prime\n",
            "47 is Prime\n",
            "48 is Not Prime\n",
            "49 is Not Prime\n",
            "50 is Not Prime\n",
            "51 is Not Prime\n",
            "52 is Not Prime\n",
            "53 is Prime\n",
            "54 is Not Prime\n",
            "55 is Not Prime\n",
            "56 is Not Prime\n",
            "57 is Not Prime\n",
            "58 is Not Prime\n",
            "59 is Prime\n",
            "60 is Not Prime\n",
            "61 is Prime\n",
            "62 is Not Prime\n",
            "63 is Not Prime\n",
            "64 is Not Prime\n",
            "65 is Not Prime\n",
            "66 is Not Prime\n",
            "67 is Prime\n",
            "68 is Not Prime\n",
            "69 is Not Prime\n",
            "70 is Not Prime\n",
            "71 is Prime\n",
            "72 is Not Prime\n",
            "73 is Prime\n",
            "74 is Not Prime\n",
            "75 is Not Prime\n",
            "76 is Not Prime\n",
            "77 is Not Prime\n",
            "78 is Not Prime\n",
            "79 is Prime\n",
            "80 is Not Prime\n",
            "81 is Not Prime\n",
            "82 is Not Prime\n",
            "83 is Prime\n",
            "84 is Not Prime\n",
            "85 is Not Prime\n",
            "86 is Not Prime\n",
            "87 is Not Prime\n",
            "88 is Not Prime\n",
            "89 is Prime\n",
            "90 is Not Prime\n",
            "91 is Not Prime\n",
            "92 is Not Prime\n",
            "93 is Not Prime\n",
            "94 is Not Prime\n",
            "95 is Not Prime\n",
            "96 is Not Prime\n",
            "97 is Prime\n",
            "98 is Not Prime\n",
            "99 is Not Prime\n",
            "100 is Not Prime\n",
            "101 is Prime\n",
            "102 is Not Prime\n",
            "103 is Prime\n",
            "104 is Not Prime\n",
            "105 is Not Prime\n",
            "106 is Not Prime\n",
            "107 is Prime\n",
            "108 is Not Prime\n",
            "109 is Prime\n",
            "110 is Not Prime\n",
            "111 is Not Prime\n",
            "112 is Not Prime\n",
            "113 is Prime\n",
            "114 is Not Prime\n",
            "115 is Not Prime\n",
            "116 is Not Prime\n",
            "117 is Not Prime\n",
            "118 is Not Prime\n",
            "119 is Not Prime\n",
            "120 is Not Prime\n",
            "121 is Not Prime\n",
            "122 is Not Prime\n",
            "123 is Not Prime\n",
            "124 is Not Prime\n",
            "125 is Not Prime\n",
            "126 is Not Prime\n",
            "127 is Prime\n",
            "128 is Not Prime\n",
            "129 is Not Prime\n",
            "130 is Not Prime\n",
            "131 is Prime\n",
            "132 is Not Prime\n",
            "133 is Not Prime\n",
            "134 is Not Prime\n",
            "135 is Not Prime\n",
            "136 is Not Prime\n",
            "137 is Prime\n",
            "138 is Not Prime\n",
            "139 is Prime\n",
            "140 is Not Prime\n",
            "141 is Not Prime\n",
            "142 is Not Prime\n",
            "143 is Not Prime\n",
            "144 is Not Prime\n",
            "145 is Not Prime\n",
            "146 is Not Prime\n",
            "147 is Not Prime\n",
            "148 is Not Prime\n",
            "149 is Prime\n",
            "150 is Not Prime\n",
            "151 is Prime\n",
            "152 is Not Prime\n",
            "153 is Not Prime\n",
            "154 is Not Prime\n",
            "155 is Not Prime\n",
            "156 is Not Prime\n",
            "157 is Prime\n",
            "158 is Not Prime\n",
            "159 is Not Prime\n",
            "160 is Not Prime\n",
            "161 is Not Prime\n",
            "162 is Not Prime\n",
            "163 is Prime\n",
            "164 is Not Prime\n",
            "165 is Not Prime\n",
            "166 is Not Prime\n",
            "167 is Prime\n",
            "168 is Not Prime\n",
            "169 is Not Prime\n",
            "170 is Not Prime\n",
            "171 is Not Prime\n",
            "172 is Not Prime\n",
            "173 is Prime\n",
            "174 is Not Prime\n",
            "175 is Not Prime\n",
            "176 is Not Prime\n",
            "177 is Not Prime\n",
            "178 is Not Prime\n",
            "179 is Prime\n",
            "180 is Not Prime\n",
            "181 is Prime\n",
            "182 is Not Prime\n",
            "183 is Not Prime\n",
            "184 is Not Prime\n",
            "185 is Not Prime\n",
            "186 is Not Prime\n",
            "187 is Not Prime\n",
            "188 is Not Prime\n",
            "189 is Not Prime\n",
            "190 is Not Prime\n",
            "191 is Prime\n",
            "192 is Not Prime\n",
            "193 is Prime\n",
            "194 is Not Prime\n",
            "195 is Not Prime\n",
            "196 is Not Prime\n",
            "197 is Prime\n",
            "198 is Not Prime\n",
            "199 is Prime\n",
            "200 is Not Prime\n"
          ]
        }
      ]
    },
    {
      "cell_type": "code",
      "source": [
        "#5:-. Create an iterator class in Python that generates the Fibonacci sequence up to a specified number of terms.\n",
        "\n",
        "class Fibonacci:\n",
        "    def __init__(self, n_terms):\n",
        "        self.n_terms = n_terms   # total terms\n",
        "        self.count = 0\n",
        "        self.a, self.b = 0, 1    # first two numbers\n",
        "\n",
        "    def __iter__(self):\n",
        "        return self\n",
        "\n",
        "    def __next__(self):\n",
        "        if self.count < self.n_terms:\n",
        "            if self.count == 0:\n",
        "                self.count += 1\n",
        "                return self.a\n",
        "            elif self.count == 1:\n",
        "                self.count += 1\n",
        "                return self.b\n",
        "            else:\n",
        "                self.a, self.b = self.b, self.a + self.b\n",
        "                self.count += 1\n",
        "                return self.b\n",
        "        else:\n",
        "            raise StopIteration   # end iteration\n",
        "\n",
        "\n",
        "# Example usage\n",
        "fib = Fibonacci(10)   # Generate 10 Fibonacci numbers\n",
        "for num in fib:\n",
        "    print(num)\n",
        "\n"
      ],
      "metadata": {
        "colab": {
          "base_uri": "https://localhost:8080/"
        },
        "id": "fLDJCYGXkK5W",
        "outputId": "0e73ce7f-b814-4235-d303-73329f4c9c46"
      },
      "execution_count": 17,
      "outputs": [
        {
          "output_type": "stream",
          "name": "stdout",
          "text": [
            "0\n",
            "1\n",
            "1\n",
            "2\n",
            "3\n",
            "5\n",
            "8\n",
            "13\n",
            "21\n",
            "34\n"
          ]
        }
      ]
    },
    {
      "cell_type": "code",
      "source": [
        "#6:-Write a generator function in Python that yields the powers of 2 up to a given exponent.\n",
        "\n",
        "def powers_of_two(n):\n",
        "    for i in range(n + 1):\n",
        "        yield 2 ** i\n",
        "\n",
        "# Example usage\n",
        "for val in powers_of_two(5):\n",
        "    print(val)\n"
      ],
      "metadata": {
        "colab": {
          "base_uri": "https://localhost:8080/"
        },
        "id": "zPtUi6xekar2",
        "outputId": "7b89ecef-86ca-48a7-e1fe-872985a68d21"
      },
      "execution_count": 18,
      "outputs": [
        {
          "output_type": "stream",
          "name": "stdout",
          "text": [
            "1\n",
            "2\n",
            "4\n",
            "8\n",
            "16\n",
            "32\n"
          ]
        }
      ]
    },
    {
      "cell_type": "code",
      "source": [
        "#7:- Implement a generator function that reads a file line by line and yields each line as a string.\n",
        "\n",
        "def read_file_lines(filename):\n",
        "    with open(filename, \"r\") as file:\n",
        "        for line in file:\n",
        "            yield line.strip()   # remove trailing newline\n",
        "\n",
        "# Example usage\n",
        "for line in read_file_lines(\"example.txt\"):\n",
        "    print(line)"
      ],
      "metadata": {
        "colab": {
          "base_uri": "https://localhost:8080/"
        },
        "id": "M-yIfI43kiUo",
        "outputId": "d7989f9c-1563-4a9f-80b4-9d7aa33d3e88"
      },
      "execution_count": 21,
      "outputs": [
        {
          "output_type": "stream",
          "name": "stdout",
          "text": [
            "This is line 1\n",
            "This is line 2\n",
            "This is line 3\n"
          ]
        }
      ]
    },
    {
      "cell_type": "code",
      "metadata": {
        "id": "a4bab6a2"
      },
      "source": [
        "# Create a dummy file named example.txt\n",
        "with open(\"example.txt\", \"w\") as f:\n",
        "    f.write(\"This is line 1\\n\")\n",
        "    f.write(\"This is line 2\\n\")\n",
        "    f.write(\"This is line 3\\n\")"
      ],
      "execution_count": 20,
      "outputs": []
    },
    {
      "cell_type": "code",
      "source": [
        "#8:-Use a lambda function in Python to sort a list of tuples based on the second element of each tuple.\n",
        "\n",
        "# List of tuples\n",
        "data = [(1, 5), (3, 1), (2, 8), (4, 2)]\n",
        "\n",
        "# Sort by second element\n",
        "sorted_data = sorted(data, key=lambda x: x[1])\n",
        "\n",
        "print(sorted_data)\n"
      ],
      "metadata": {
        "colab": {
          "base_uri": "https://localhost:8080/"
        },
        "id": "glN_hOQ4kyNF",
        "outputId": "85f053f3-2fb2-4067-cf24-1bb94b29e545"
      },
      "execution_count": 22,
      "outputs": [
        {
          "output_type": "stream",
          "name": "stdout",
          "text": [
            "[(3, 1), (4, 2), (1, 5), (2, 8)]\n"
          ]
        }
      ]
    },
    {
      "cell_type": "code",
      "source": [
        "#9:-Write a Python program that uses `map()` to convert a list of temperatures from Celsius to Fahrenheit.\n",
        "\n",
        "# Celsius to Fahrenheit conversion: (C × 9/5) + 32\n",
        "celsius = [0, 20, 37, 100]\n",
        "\n",
        "fahrenheit = list(map(lambda c: (c * 9/5) + 32, celsius))\n",
        "\n",
        "print(\"Celsius:\", celsius)\n",
        "print(\"Fahrenheit:\", fahrenheit)\n"
      ],
      "metadata": {
        "colab": {
          "base_uri": "https://localhost:8080/"
        },
        "id": "Vd2xyjHik7_X",
        "outputId": "5ae55f9e-f896-40ed-8714-af3bb6eeb09e"
      },
      "execution_count": 23,
      "outputs": [
        {
          "output_type": "stream",
          "name": "stdout",
          "text": [
            "Celsius: [0, 20, 37, 100]\n",
            "Fahrenheit: [32.0, 68.0, 98.6, 212.0]\n"
          ]
        }
      ]
    },
    {
      "cell_type": "code",
      "source": [
        "#10:-Create a Python program that uses `filter()` to remove all the vowels from a given string.\n",
        "\n",
        "def remove_vowels(text):\n",
        "    vowels = \"aeiouAEIOU\"\n",
        "    return \"\".join(filter(lambda ch: ch not in vowels, text))\n",
        "\n",
        "# Example usage\n",
        "s = \"Hello World\"\n",
        "result = remove_vowels(s)\n",
        "print(result)   # Output: Hll Wrld\n"
      ],
      "metadata": {
        "colab": {
          "base_uri": "https://localhost:8080/"
        },
        "id": "k1EDkQ0qlIEe",
        "outputId": "cc313d15-e42c-41cb-fbc4-923d77999efd"
      },
      "execution_count": 24,
      "outputs": [
        {
          "output_type": "stream",
          "name": "stdout",
          "text": [
            "Hll Wrld\n"
          ]
        }
      ]
    },
    {
      "cell_type": "code",
      "source": [
        "#11) Imagine an accounting routine used in a book shop. It works on a list with sublists, which look like this:\n",
        "\n",
        "orders = [\n",
        "    [34587, \"Learning Python, Mark Lutz\", 4, 40.95],\n",
        "    [98762, \"Programming Python, Mark Lutz\", 5, 56.80],\n",
        "    [77226, \"Head First Python, Paul Barry\", 3, 32.95],\n",
        "    [88112, \"Einführung in Python3, Bernd Klein\", 3, 24.99]\n",
        "]\n",
        "\n",
        "# Using lambda and map\n",
        "invoices = list(map(lambda order: (\n",
        "    order[0],\n",
        "    order[2] * order[3] if order[2] * order[3] >= 100 else order[2] * order[3] + 10\n",
        "), orders))\n",
        "\n",
        "print(invoices)\n",
        "\n",
        "\n",
        "\n",
        "\n",
        "\n",
        "\n",
        "\n"
      ],
      "metadata": {
        "colab": {
          "base_uri": "https://localhost:8080/"
        },
        "id": "LNpJLKj0yWFv",
        "outputId": "4dd87304-50a2-40a7-9230-16854273c4d6"
      },
      "execution_count": 27,
      "outputs": [
        {
          "output_type": "stream",
          "name": "stdout",
          "text": [
            "[(34587, 163.8), (98762, 284.0), (77226, 108.85000000000001), (88112, 84.97)]\n"
          ]
        }
      ]
    }
  ]
}